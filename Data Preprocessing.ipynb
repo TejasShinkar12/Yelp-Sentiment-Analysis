{
 "cells": [
  {
   "cell_type": "markdown",
   "id": "64d12955",
   "metadata": {},
   "source": [
    "### Import Libraries"
   ]
  },
  {
   "cell_type": "code",
   "execution_count": 1,
   "id": "d1517706",
   "metadata": {},
   "outputs": [],
   "source": [
    "import json\n",
    "import pandas as pd\n",
    "from collections import defaultdict"
   ]
  },
  {
   "cell_type": "markdown",
   "id": "94d16c16",
   "metadata": {},
   "source": [
    "### Function Testing"
   ]
  },
  {
   "cell_type": "code",
   "execution_count": 3,
   "id": "37f0dda2",
   "metadata": {},
   "outputs": [],
   "source": [
    "f = open('yelp_dataset/yelp_academic_dataset_business.json', 'r')\n",
    "business_dict = defaultdict(list)"
   ]
  },
  {
   "cell_type": "code",
   "execution_count": 5,
   "id": "3ef8f4a6",
   "metadata": {},
   "outputs": [
    {
     "name": "stdout",
     "output_type": "stream",
     "text": [
      "{'business_id': 'mpf3x-BjTdTEA3yCZrAYPw', 'name': 'The UPS Store', 'address': '87 Grasso Plaza Shopping Center', 'city': 'Affton', 'state': 'MO', 'postal_code': '63123', 'latitude': 38.551126, 'longitude': -90.335695, 'stars': 3.0, 'review_count': 15, 'is_open': 1, 'attributes': {'BusinessAcceptsCreditCards': 'True'}, 'categories': 'Shipping Centers, Local Services, Notaries, Mailbox Centers, Printing Services', 'hours': {'Monday': '0:0-0:0', 'Tuesday': '8:0-18:30', 'Wednesday': '8:0-18:30', 'Thursday': '8:0-18:30', 'Friday': '8:0-18:30', 'Saturday': '8:0-14:0'}}\n"
     ]
    }
   ],
   "source": [
    "entry = next(f)\n",
    "entry = json.loads(entry)\n",
    "print(entry)"
   ]
  },
  {
   "cell_type": "code",
   "execution_count": 7,
   "id": "f7607654",
   "metadata": {},
   "outputs": [
    {
     "name": "stdout",
     "output_type": "stream",
     "text": [
      "business_id mpf3x-BjTdTEA3yCZrAYPw\n",
      "name The UPS Store\n",
      "address 87 Grasso Plaza Shopping Center\n",
      "city Affton\n",
      "state MO\n",
      "postal_code 63123\n",
      "latitude 38.551126\n",
      "longitude -90.335695\n",
      "stars 3.0\n",
      "review_count 15\n",
      "is_open 1\n",
      "attributes {'BusinessAcceptsCreditCards': 'True'}\n",
      "categories Shipping Centers, Local Services, Notaries, Mailbox Centers, Printing Services\n",
      "hours {'Monday': '0:0-0:0', 'Tuesday': '8:0-18:30', 'Wednesday': '8:0-18:30', 'Thursday': '8:0-18:30', 'Friday': '8:0-18:30', 'Saturday': '8:0-14:0'}\n"
     ]
    }
   ],
   "source": [
    "for key, val in entry.items():\n",
    "    print(key, val)"
   ]
  },
  {
   "cell_type": "code",
   "execution_count": 9,
   "id": "b6005a3a",
   "metadata": {},
   "outputs": [],
   "source": [
    "for key, val in entry.items():\n",
    "    if key == 'city' and val == 'Affton':\n",
    "        for key, val in entry.items():\n",
    "            business_dict[key].append(val)"
   ]
  },
  {
   "cell_type": "code",
   "execution_count": null,
   "id": "e3473dc3",
   "metadata": {},
   "outputs": [],
   "source": []
  }
 ],
 "metadata": {
  "kernelspec": {
   "display_name": "Python 3 (ipykernel)",
   "language": "python",
   "name": "python3"
  },
  "language_info": {
   "codemirror_mode": {
    "name": "ipython",
    "version": 3
   },
   "file_extension": ".py",
   "mimetype": "text/x-python",
   "name": "python",
   "nbconvert_exporter": "python",
   "pygments_lexer": "ipython3",
   "version": "3.11.5"
  }
 },
 "nbformat": 4,
 "nbformat_minor": 5
}
